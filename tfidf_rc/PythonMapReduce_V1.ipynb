{
 "cells": [
  {
   "cell_type": "code",
   "execution_count": null,
   "metadata": {},
   "outputs": [],
   "source": [
    "#!/usr/bin/python\n",
    "import sys\n",
    "import re\n",
    "\n",
    "\n",
    "\n",
    "for line in sys.stdin:\n",
    "    #origin\n",
    "    line = re.sub(r'^\\W+|\\W+$', '',line)\n",
    "    words = re.split(r\"\\W+\",line)\n",
    "\n",
    "    for word in words:\n",
    "        print (word.lower()+\"\\t1\")\n"
   ]
  },
  {
   "cell_type": "code",
   "execution_count": 2,
   "metadata": {},
   "outputs": [
    {
     "name": "stdout",
     "output_type": "stream",
     "text": [
      "[0, 1, 2, 3, 4, 5, 6, 7, 8, 9]\n"
     ]
    }
   ],
   "source": [
    "a = []\n",
    "for i in range(0,10):\n",
    "    a.append(i)\n",
    "print(a)"
   ]
  },
  {
   "cell_type": "markdown",
   "metadata": {},
   "source": [
    "# Mapper and Reducer for Piping in Shell"
   ]
  },
  {
   "cell_type": "code",
   "execution_count": null,
   "metadata": {},
   "outputs": [],
   "source": [
    "#mapper\n",
    "#!/usr/bin/python\n",
    "import sys\n",
    "import re\n",
    "import os\n",
    "# os.stat(\"futurama1.txt\")\n",
    "\n",
    "#all_docs successively stores the origins of all the different files\n",
    "all_docs = []\n",
    "document_index = 0\n",
    "\n",
    "for line in sys.stdin:\n",
    "    \n",
    "    line = re.sub(r'^\\W+|\\W+$', '',line)\n",
    "    words = re.split(r\"\\W+\",line)\n",
    "    \n",
    "    #check which document the word comes from\n",
    "    #array all_docs is appended everytime we have a new document\n",
    "    #each word is a key, with the corresponding index of the document\n",
    "    origin = os.environ(\"\")\n",
    "    if len(all_doc) == 0:\n",
    "        #fill first position with first document origin\n",
    "        all_docs.append(origin)\n",
    "    elif all_docs[index] != origin:\n",
    "        index +=1\n",
    "        all_docs.append(origin)\n",
    "\n",
    "    for word in words:\n",
    "        \n",
    "        print (word.lower()+\"\\t\"+str(index))\n"
   ]
  },
  {
   "cell_type": "code",
   "execution_count": null,
   "metadata": {},
   "outputs": [],
   "source": [
    "#reducer\n",
    "#!/usr/bin/python\n",
    "import sys\n",
    "import re\n",
    "import os\n",
    "# os.stat(\"futurama1.txt\")\n",
    "\n",
    "#all_docs successively stores the origins of all the different files\n",
    "all_docs = []\n",
    "document_index = 0\n",
    "\n",
    "for line in sys.stdin:\n",
    "    \n",
    "    line = re.sub(r'^\\W+|\\W+$', '',line)\n",
    "    words = re.split(r\"\\W+\",line)\n",
    "    \n",
    "    #check which document the word comes from\n",
    "    #array all_docs is appended everytime we have a new document\n",
    "    #each word is a key, with the corresponding index of the document\n",
    "    origin = os.environ(\"\")\n",
    "    if len(all_doc) == 0:\n",
    "        #fill first position with first document origin\n",
    "        all_docs.append(origin)\n",
    "    elif all_docs[index] != origin:\n",
    "        index +=1\n",
    "        all_docs.append(origin)\n",
    "\n",
    "    for word in words:\n",
    "        \n",
    "        print (word.lower()+\"\\t\"+str(index))\n"
   ]
  },
  {
   "cell_type": "code",
   "execution_count": null,
   "metadata": {},
   "outputs": [],
   "source": [
    "#command liene commant to run map-reduce in shell \n",
    "/mapper.py < futurama1.txt <futurama2.txt| sort | ./reducer.py"
   ]
  }
 ],
 "metadata": {
  "kernelspec": {
   "display_name": "Python 3",
   "language": "python",
   "name": "python3"
  },
  "language_info": {
   "codemirror_mode": {
    "name": "ipython",
    "version": 3
   },
   "file_extension": ".py",
   "mimetype": "text/x-python",
   "name": "python",
   "nbconvert_exporter": "python",
   "pygments_lexer": "ipython3",
   "version": "3.7.1"
  }
 },
 "nbformat": 4,
 "nbformat_minor": 2
}
