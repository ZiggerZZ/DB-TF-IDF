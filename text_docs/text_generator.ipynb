{
 "cells": [
  {
   "cell_type": "code",
   "execution_count": 4,
   "metadata": {},
   "outputs": [],
   "source": [
    "from nltk.corpus import brown\n",
    "import random \n",
    "corpus_length = len(brown.words())\n",
    "hardcopy = brown.words()"
   ]
  },
  {
   "cell_type": "code",
   "execution_count": 5,
   "metadata": {},
   "outputs": [],
   "source": [
    "def create_docs(number_of_words_per_doc = 200, num_doc = 10,startnr = 0):\n",
    "    # control number of words per doc \n",
    "    # and number of documents \n",
    "    #we fix the line length at 20\n",
    "    line_length = 20 \n",
    "    number_of_lines = int(number_of_words_per_doc / line_length)\n",
    "\n",
    "    for i in range(0,num_doc):\n",
    "        #create new file with writing + permission\n",
    "        new_file = open(\"getsize\"+str(number_of_words_per_doc) +\"words\" + str(i+startnr)+\".txt\",\"w+\")\n",
    "        for line in range(0,number_of_lines):\n",
    "            words = list(map(lambda x:hardcopy[x:x+line_length], random.sample(range(corpus_length),  line_length ) ))\n",
    "            sentences = list(map(lambda x: ' '.join(word for word in x) , words))\n",
    "            text = ''.join(map(str, sentences))\n",
    "            new_file.write(text + \"\\n\")\n",
    "        new_file.close()\n",
    "        if (i%10==0):\n",
    "            print(\"You created \"+str(i)+\" files! \"+str(num_doc-i)+\" left\")\n"
   ]
  },
  {
   "cell_type": "code",
   "execution_count": 8,
   "metadata": {},
   "outputs": [
    {
     "name": "stdout",
     "output_type": "stream",
     "text": [
      "You created 0 files! 1 left\n"
     ]
    }
   ],
   "source": [
    "create_docs(number_of_words_per_doc = 300, num_doc = 1,startnr = 2)"
   ]
  },
  {
   "cell_type": "code",
   "execution_count": null,
   "metadata": {},
   "outputs": [],
   "source": []
  }
 ],
 "metadata": {
  "kernelspec": {
   "display_name": "Python 3",
   "language": "python",
   "name": "python3"
  },
  "language_info": {
   "codemirror_mode": {
    "name": "ipython",
    "version": 3
   },
   "file_extension": ".py",
   "mimetype": "text/x-python",
   "name": "python",
   "nbconvert_exporter": "python",
   "pygments_lexer": "ipython3",
   "version": "3.7.1"
  }
 },
 "nbformat": 4,
 "nbformat_minor": 2
}
