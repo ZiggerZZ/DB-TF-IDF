{
 "cells": [
  {
   "cell_type": "markdown",
   "metadata": {},
   "source": [
    "# Assignment 2: IR"
   ]
  },
  {
   "cell_type": "markdown",
   "metadata": {},
   "source": [
    "## Preparations\n",
    "* Put all your imports, and path constants in the next cells\n",
    "* Make sure ***MATERIALS_DIR*** points to the directory where you extracted the Zip file.\n",
    "* Make sure all your paths are **relative to ** ***MATERIALS_DIR*** and **NOT hard-coded** in your code."
   ]
  },
  {
   "cell_type": "code",
   "execution_count": 1,
   "metadata": {
    "collapsed": true
   },
   "outputs": [],
   "source": [
    "# imports\n",
    "# Put all your imports here\n",
    "from whoosh import index, writing\n",
    "from whoosh.fields import Schema, TEXT, KEYWORD, ID, STORED\n",
    "from whoosh.analysis import *\n",
    "from whoosh.qparser import QueryParser\n",
    "import os, os.path\n",
    "import shutil"
   ]
  },
  {
   "cell_type": "code",
   "execution_count": 2,
   "metadata": {
    "collapsed": true
   },
   "outputs": [],
   "source": [
    "MATERIALS_DIR = r\"C:\\DSS\"\n",
    "#\n",
    "# Put other path constants here\n",
    "#\n",
    "DOCUMENTS_DIR = os.path.join(MATERIALS_DIR, r\"DSS_Fall2017_Assign2\\government\\documents\")\n",
    "INDEX_DIR = os.path.join(MATERIALS_DIR, r\"DSS_Fall2017_Assign2\\government\\index1\")\n",
    "QUER_FILE = os.path.join(MATERIALS_DIR, r\"DSS_Fall2017_Assign2\\government\\topics\\gov.topics\")\n",
    "QRELS_FILE = os.path.join(MATERIALS_DIR, r\"DSS_Fall2017_Assign2\\government\\qrels\\gov.qrels\")\n",
    "OUTPUT_FILE = os.path.join(MATERIALS_DIR, r\"DSS_Fall2017_Assign2\\government\\myres\")\n",
    "TREC_EVAL = os.path.join(MATERIALS_DIR, r\"DSS_Fall2017_Assign2\\trec_eval\\trec_eval.exe\")\n",
    "INDEX_DIR2 = os.path.join(MATERIALS_DIR, r\"DSS_Fall2017_Assign2\\government\\index2\")\n",
    "OUTPUT_FILE2 = os.path.join(MATERIALS_DIR, r\"DSS_Fall2017_Assign2\\government\\myres2\")"
   ]
  },
  {
   "cell_type": "markdown",
   "metadata": {},
   "source": [
    "## Question 1\n",
    "Provide your text answers in the following two markdown cells"
   ]
  },
  {
   "cell_type": "markdown",
   "metadata": {},
   "source": [
    "### Q1 (a)  Which of trec eval’s measures might be appropriate for measuring search system performance for government web sites? [List the measure]\n"
   ]
  },
  {
   "cell_type": "markdown",
   "metadata": {},
   "source": [
    "### <font color='blue'> Q1 (a): P10 (percision at 10)</font>"
   ]
  },
  {
   "cell_type": "markdown",
   "metadata": {},
   "source": [
    "### Q1 (b) Why do you think this measure is appropriate? [1 sentence]"
   ]
  },
  {
   "cell_type": "markdown",
   "metadata": {},
   "source": [
    "### <font color='blue'> Q1 (b): This measure is appropriate due to the nature of the search; queries in the topics-with-full-description.txt file look like human users doing exploratory research about a specific topic of interest. They would most likely open the first 10 or so recommended government websites to find the appropriate bredth and depth of information they need. </font>\n",
    "\n",
    "### <font color='blue'> **In this case most topics have less than 10 relevant assoicated documents - I'm assuming that in the general case there would be a lot more documents in the database. </font>"
   ]
  },
  {
   "cell_type": "markdown",
   "metadata": {},
   "source": [
    "## Question 2"
   ]
  },
  {
   "cell_type": "code",
   "execution_count": 3,
   "metadata": {
    "collapsed": true
   },
   "outputs": [],
   "source": [
    "# Put your code for creating the index here (you can add more cells).\n",
    "# Make sure you save the final index in the variable INDEX_Q2, your query parser in QP_Q2, and your searcher in SEARCHER_Q2\n",
    "\n",
    "#*****************FROM THE LAB************************\n",
    "# first, define a Schema for the index\n",
    "mySchema = Schema(file_path = ID(stored=True),\n",
    "                  file_content = TEXT(analyzer = RegexTokenizer()))\n",
    "\n",
    "# if index exists - remove it\n",
    "if os.path.isdir(INDEX_DIR):\n",
    "    shutil.rmtree(INDEX_DIR)\n",
    "\n",
    "# create the directory for the index\n",
    "os.makedirs(INDEX_DIR)\n",
    "\n",
    "\n"
   ]
  },
  {
   "cell_type": "markdown",
   "metadata": {},
   "source": [
    "### Q2 (a): Write your code below"
   ]
  },
  {
   "cell_type": "code",
   "execution_count": 4,
   "metadata": {
    "collapsed": true
   },
   "outputs": [],
   "source": [
    "# create index\n",
    "myIndex = index.create_in(INDEX_DIR, mySchema)"
   ]
  },
  {
   "cell_type": "code",
   "execution_count": 5,
   "metadata": {
    "collapsed": true
   },
   "outputs": [],
   "source": [
    "#INDEXING THE DOCUMENTS\n",
    "# first we build a list of all the full paths of the files in DOCUMENTS_DIR\n",
    "filesToIndex = []\n",
    "for root, dirs, files in os.walk(DOCUMENTS_DIR):\n",
    "    filePaths = [os.path.join(root, fileName) for fileName in files if not fileName.startswith('.')]\n",
    "    filesToIndex.extend(filePaths)"
   ]
  },
  {
   "cell_type": "code",
   "execution_count": 6,
   "metadata": {},
   "outputs": [
    {
     "name": "stdout",
     "output_type": "stream",
     "text": [
      "C:\\DSS\\DSS_Fall2017_Assign2\\government\\documents\\00\\G00-00-0088569\n",
      "C:\\DSS\\DSS_Fall2017_Assign2\\government\\documents\\00\\G00-00-0114013\n"
     ]
    }
   ],
   "source": [
    "# print the first 2 paths to make sure it worked\n",
    "print(\"\\n\".join(filesToIndex[:2]))"
   ]
  },
  {
   "cell_type": "code",
   "execution_count": 7,
   "metadata": {},
   "outputs": [
    {
     "name": "stdout",
     "output_type": "stream",
     "text": [
      "number of files: 4078\n"
     ]
    }
   ],
   "source": [
    "# count files to index\n",
    "print(\"number of files:\", len(filesToIndex))"
   ]
  },
  {
   "cell_type": "code",
   "execution_count": 8,
   "metadata": {},
   "outputs": [
    {
     "name": "stdout",
     "output_type": "stream",
     "text": [
      "already indexed: 1\n",
      "already indexed: 1001\n",
      "already indexed: 2001\n",
      "already indexed: 3001\n",
      "already indexed: 4001\n",
      "done indexing.\n"
     ]
    }
   ],
   "source": [
    "# open writer\n",
    "myWriter = writing.BufferedWriter(myIndex, period=20, limit=1000)\n",
    "\n",
    "try:\n",
    "    # write each file to index\n",
    "    for docNum, filePath in enumerate(filesToIndex):\n",
    "        with open(filePath, \"r\", encoding=\"utf-8\") as f:\n",
    "            fileContent = f.read()\n",
    "            myWriter.add_document(file_path = filePath,\n",
    "                                  file_content = fileContent)\n",
    "            \n",
    "            if (docNum % 1000 == 0):\n",
    "                print(\"already indexed:\", docNum+1)\n",
    "    print(\"done indexing.\")\n",
    "\n",
    "finally:\n",
    "    # save the index\n",
    "    myWriter.close()"
   ]
  },
  {
   "cell_type": "code",
   "execution_count": 9,
   "metadata": {
    "collapsed": true
   },
   "outputs": [],
   "source": [
    "#querying\n",
    "\n",
    "# define a query parser for the field \"file_content\" in the index\n",
    "myQueryParser = QueryParser(\"file_content\", schema=myIndex.schema)\n",
    "mySearcher = myIndex.searcher()\n",
    "\n",
    "\n"
   ]
  },
  {
   "cell_type": "code",
   "execution_count": 16,
   "metadata": {
    "collapsed": true
   },
   "outputs": [],
   "source": [
    "INDEX_Q2 = myIndex\n",
    "QP_Q2 = myQueryParser\n",
    "SEARCHER_Q2 = mySearcher\n"
   ]
  },
  {
   "cell_type": "code",
   "execution_count": 17,
   "metadata": {
    "collapsed": true
   },
   "outputs": [],
   "source": [
    "# Load topic file - a list of topics(search phrases) used for evalutation\n",
    "topicsFile = open(QUER_FILE,\"r\")\n",
    "topics = topicsFile.read().splitlines()\n",
    "\n",
    "\n",
    "# create an output file to which we'll write our results\n",
    "outputTRECFile = open(OUTPUT_FILE, \"w\")\n",
    "\n",
    "# for each evaluated topic:\n",
    "# build a query and record the results in the file in TREC_EVAL format\n",
    "for topic in topics:\n",
    "    topic_id, topic_phrase = tuple(topic.split(\" \", 1))\n",
    "    topicQuery = myQueryParser.parse(topic_phrase)\n",
    "    topicResults = mySearcher.search(topicQuery, limit=None)\n",
    "    for (docnum, result) in enumerate(topicResults):\n",
    "        score = topicResults.score(docnum)\n",
    "        outputTRECFile.write(\"%s Q0 %s %d %lf test\\n\" % (topic_id, os.path.basename(result[\"file_path\"]), docnum, score))\n",
    "\n",
    "# close the topic and results file\n",
    "outputTRECFile.close()\n",
    "topicsFile.close()\n"
   ]
  },
  {
   "cell_type": "code",
   "execution_count": 18,
   "metadata": {},
   "outputs": [
    {
     "name": "stdout",
     "output_type": "stream",
     "text": [
      "num_ret               \t1\t1\n",
      "num_rel               \t1\t5\n",
      "num_rel_ret           \t1\t0\n",
      "map                   \t1\t0.0000\n",
      "Rprec                 \t1\t0.0000\n",
      "bpref                 \t1\t0.0000\n",
      "recip_rank            \t1\t0.0000\n",
      "iprec_at_recall_0.00  \t1\t0.0000\n",
      "iprec_at_recall_0.10  \t1\t0.0000\n",
      "iprec_at_recall_0.20  \t1\t0.0000\n",
      "iprec_at_recall_0.30  \t1\t0.0000\n",
      "iprec_at_recall_0.40  \t1\t0.0000\n",
      "iprec_at_recall_0.50  \t1\t0.0000\n",
      "iprec_at_recall_0.60  \t1\t0.0000\n",
      "iprec_at_recall_0.70  \t1\t0.0000\n",
      "iprec_at_recall_0.80  \t1\t0.0000\n",
      "iprec_at_recall_0.90  \t1\t0.0000\n",
      "iprec_at_recall_1.00  \t1\t0.0000\n",
      "P_5                   \t1\t0.0000\n",
      "P_10                  \t1\t0.0000\n",
      "P_15                  \t1\t0.0000\n",
      "P_20                  \t1\t0.0000\n",
      "P_30                  \t1\t0.0000\n",
      "P_100                 \t1\t0.0000\n",
      "P_200                 \t1\t0.0000\n",
      "P_500                 \t1\t0.0000\n",
      "P_1000                \t1\t0.0000\n",
      "num_ret               \t10\t16\n",
      "num_rel               \t10\t1\n",
      "num_rel_ret           \t10\t1\n",
      "map                   \t10\t0.1667\n",
      "Rprec                 \t10\t0.0000\n",
      "bpref                 \t10\t0.0000\n",
      "recip_rank            \t10\t0.1667\n",
      "iprec_at_recall_0.00  \t10\t0.1667\n",
      "iprec_at_recall_0.10  \t10\t0.1667\n",
      "iprec_at_recall_0.20  \t10\t0.1667\n",
      "iprec_at_recall_0.30  \t10\t0.1667\n",
      "iprec_at_recall_0.40  \t10\t0.1667\n",
      "iprec_at_recall_0.50  \t10\t0.1667\n",
      "iprec_at_recall_0.60  \t10\t0.1667\n",
      "iprec_at_recall_0.70  \t10\t0.1667\n",
      "iprec_at_recall_0.80  \t10\t0.1667\n",
      "iprec_at_recall_0.90  \t10\t0.1667\n",
      "iprec_at_recall_1.00  \t10\t0.1667\n",
      "P_5                   \t10\t0.0000\n",
      "P_10                  \t10\t0.1000\n",
      "P_15                  \t10\t0.0667\n",
      "P_20                  \t10\t0.0500\n",
      "P_30                  \t10\t0.0333\n",
      "P_100                 \t10\t0.0100\n",
      "P_200                 \t10\t0.0050\n",
      "P_500                 \t10\t0.0020\n",
      "P_1000                \t10\t0.0010\n",
      "num_ret               \t14\t7\n",
      "num_rel               \t14\t1\n",
      "num_rel_ret           \t14\t1\n",
      "map                   \t14\t0.2500\n",
      "Rprec                 \t14\t0.0000\n",
      "bpref                 \t14\t0.0000\n",
      "recip_rank            \t14\t0.2500\n",
      "iprec_at_recall_0.00  \t14\t0.2500\n",
      "iprec_at_recall_0.10  \t14\t0.2500\n",
      "iprec_at_recall_0.20  \t14\t0.2500\n",
      "iprec_at_recall_0.30  \t14\t0.2500\n",
      "iprec_at_recall_0.40  \t14\t0.2500\n",
      "iprec_at_recall_0.50  \t14\t0.2500\n",
      "iprec_at_recall_0.60  \t14\t0.2500\n",
      "iprec_at_recall_0.70  \t14\t0.2500\n",
      "iprec_at_recall_0.80  \t14\t0.2500\n",
      "iprec_at_recall_0.90  \t14\t0.2500\n",
      "iprec_at_recall_1.00  \t14\t0.2500\n",
      "P_5                   \t14\t0.2000\n",
      "P_10                  \t14\t0.1000\n",
      "P_15                  \t14\t0.0667\n",
      "P_20                  \t14\t0.0500\n",
      "P_30                  \t14\t0.0333\n",
      "P_100                 \t14\t0.0100\n",
      "P_200                 \t14\t0.0050\n",
      "P_500                 \t14\t0.0020\n",
      "P_1000                \t14\t0.0010\n",
      "num_ret               \t16\t7\n",
      "num_rel               \t16\t7\n",
      "num_rel_ret           \t16\t0\n",
      "map                   \t16\t0.0000\n",
      "Rprec                 \t16\t0.0000\n",
      "bpref                 \t16\t0.0000\n",
      "recip_rank            \t16\t0.0000\n",
      "iprec_at_recall_0.00  \t16\t0.0000\n",
      "iprec_at_recall_0.10  \t16\t0.0000\n",
      "iprec_at_recall_0.20  \t16\t0.0000\n",
      "iprec_at_recall_0.30  \t16\t0.0000\n",
      "iprec_at_recall_0.40  \t16\t0.0000\n",
      "iprec_at_recall_0.50  \t16\t0.0000\n",
      "iprec_at_recall_0.60  \t16\t0.0000\n",
      "iprec_at_recall_0.70  \t16\t0.0000\n",
      "iprec_at_recall_0.80  \t16\t0.0000\n",
      "iprec_at_recall_0.90  \t16\t0.0000\n",
      "iprec_at_recall_1.00  \t16\t0.0000\n",
      "P_5                   \t16\t0.0000\n",
      "P_10                  \t16\t0.0000\n",
      "P_15                  \t16\t0.0000\n",
      "P_20                  \t16\t0.0000\n",
      "P_30                  \t16\t0.0000\n",
      "P_100                 \t16\t0.0000\n",
      "P_200                 \t16\t0.0000\n",
      "P_500                 \t16\t0.0000\n",
      "P_1000                \t16\t0.0000\n",
      "num_ret               \t18\t17\n",
      "num_rel               \t18\t1\n",
      "num_rel_ret           \t18\t1\n",
      "map                   \t18\t1.0000\n",
      "Rprec                 \t18\t1.0000\n",
      "bpref                 \t18\t1.0000\n",
      "recip_rank            \t18\t1.0000\n",
      "iprec_at_recall_0.00  \t18\t1.0000\n",
      "iprec_at_recall_0.10  \t18\t1.0000\n",
      "iprec_at_recall_0.20  \t18\t1.0000\n",
      "iprec_at_recall_0.30  \t18\t1.0000\n",
      "iprec_at_recall_0.40  \t18\t1.0000\n",
      "iprec_at_recall_0.50  \t18\t1.0000\n",
      "iprec_at_recall_0.60  \t18\t1.0000\n",
      "iprec_at_recall_0.70  \t18\t1.0000\n",
      "iprec_at_recall_0.80  \t18\t1.0000\n",
      "iprec_at_recall_0.90  \t18\t1.0000\n",
      "iprec_at_recall_1.00  \t18\t1.0000\n",
      "P_5                   \t18\t0.2000\n",
      "P_10                  \t18\t0.1000\n",
      "P_15                  \t18\t0.0667\n",
      "P_20                  \t18\t0.0500\n",
      "P_30                  \t18\t0.0333\n",
      "P_100                 \t18\t0.0100\n",
      "P_200                 \t18\t0.0050\n",
      "P_500                 \t18\t0.0020\n",
      "P_1000                \t18\t0.0010\n",
      "num_ret               \t2\t6\n",
      "num_rel               \t2\t2\n",
      "num_rel_ret           \t2\t0\n",
      "map                   \t2\t0.0000\n",
      "Rprec                 \t2\t0.0000\n",
      "bpref                 \t2\t0.0000\n",
      "recip_rank            \t2\t0.0000\n",
      "iprec_at_recall_0.00  \t2\t0.0000\n",
      "iprec_at_recall_0.10  \t2\t0.0000\n",
      "iprec_at_recall_0.20  \t2\t0.0000\n",
      "iprec_at_recall_0.30  \t2\t0.0000\n",
      "iprec_at_recall_0.40  \t2\t0.0000\n",
      "iprec_at_recall_0.50  \t2\t0.0000\n",
      "iprec_at_recall_0.60  \t2\t0.0000\n",
      "iprec_at_recall_0.70  \t2\t0.0000\n",
      "iprec_at_recall_0.80  \t2\t0.0000\n",
      "iprec_at_recall_0.90  \t2\t0.0000\n",
      "iprec_at_recall_1.00  \t2\t0.0000\n",
      "P_5                   \t2\t0.0000\n",
      "P_10                  \t2\t0.0000\n",
      "P_15                  \t2\t0.0000\n",
      "P_20                  \t2\t0.0000\n",
      "P_30                  \t2\t0.0000\n",
      "P_100                 \t2\t0.0000\n",
      "P_200                 \t2\t0.0000\n",
      "P_500                 \t2\t0.0000\n",
      "P_1000                \t2\t0.0000\n",
      "num_ret               \t22\t17\n",
      "num_rel               \t22\t1\n",
      "num_rel_ret           \t22\t1\n",
      "map                   \t22\t0.2000\n",
      "Rprec                 \t22\t0.0000\n",
      "bpref                 \t22\t0.0000\n",
      "recip_rank            \t22\t0.2000\n",
      "iprec_at_recall_0.00  \t22\t0.2000\n",
      "iprec_at_recall_0.10  \t22\t0.2000\n",
      "iprec_at_recall_0.20  \t22\t0.2000\n",
      "iprec_at_recall_0.30  \t22\t0.2000\n",
      "iprec_at_recall_0.40  \t22\t0.2000\n",
      "iprec_at_recall_0.50  \t22\t0.2000\n",
      "iprec_at_recall_0.60  \t22\t0.2000\n",
      "iprec_at_recall_0.70  \t22\t0.2000\n",
      "iprec_at_recall_0.80  \t22\t0.2000\n",
      "iprec_at_recall_0.90  \t22\t0.2000\n",
      "iprec_at_recall_1.00  \t22\t0.2000\n",
      "P_5                   \t22\t0.2000\n",
      "P_10                  \t22\t0.1000\n",
      "P_15                  \t22\t0.0667\n",
      "P_20                  \t22\t0.0500\n",
      "P_30                  \t22\t0.0333\n",
      "P_100                 \t22\t0.0100\n",
      "P_200                 \t22\t0.0050\n",
      "P_500                 \t22\t0.0020\n",
      "P_1000                \t22\t0.0010\n",
      "num_ret               \t24\t7\n",
      "num_rel               \t24\t1\n",
      "num_rel_ret           \t24\t1\n",
      "map                   \t24\t1.0000\n",
      "Rprec                 \t24\t1.0000\n",
      "bpref                 \t24\t1.0000\n",
      "recip_rank            \t24\t1.0000\n",
      "iprec_at_recall_0.00  \t24\t1.0000\n",
      "iprec_at_recall_0.10  \t24\t1.0000\n",
      "iprec_at_recall_0.20  \t24\t1.0000\n",
      "iprec_at_recall_0.30  \t24\t1.0000\n",
      "iprec_at_recall_0.40  \t24\t1.0000\n",
      "iprec_at_recall_0.50  \t24\t1.0000\n",
      "iprec_at_recall_0.60  \t24\t1.0000\n",
      "iprec_at_recall_0.70  \t24\t1.0000\n",
      "iprec_at_recall_0.80  \t24\t1.0000\n",
      "iprec_at_recall_0.90  \t24\t1.0000\n",
      "iprec_at_recall_1.00  \t24\t1.0000\n",
      "P_5                   \t24\t0.2000\n",
      "P_10                  \t24\t0.1000\n",
      "P_15                  \t24\t0.0667\n",
      "P_20                  \t24\t0.0500\n",
      "P_30                  \t24\t0.0333\n",
      "P_100                 \t24\t0.0100\n",
      "P_200                 \t24\t0.0050\n",
      "P_500                 \t24\t0.0020\n",
      "P_1000                \t24\t0.0010\n",
      "num_ret               \t26\t25\n",
      "num_rel               \t26\t3\n",
      "num_rel_ret           \t26\t1\n",
      "map                   \t26\t0.1111\n",
      "Rprec                 \t26\t0.3333\n",
      "bpref                 \t26\t0.1111\n",
      "recip_rank            \t26\t0.3333\n",
      "iprec_at_recall_0.00  \t26\t0.3333\n",
      "iprec_at_recall_0.10  \t26\t0.3333\n",
      "iprec_at_recall_0.20  \t26\t0.3333\n",
      "iprec_at_recall_0.30  \t26\t0.3333\n",
      "iprec_at_recall_0.40  \t26\t0.0000\n",
      "iprec_at_recall_0.50  \t26\t0.0000\n",
      "iprec_at_recall_0.60  \t26\t0.0000\n",
      "iprec_at_recall_0.70  \t26\t0.0000\n",
      "iprec_at_recall_0.80  \t26\t0.0000\n",
      "iprec_at_recall_0.90  \t26\t0.0000\n",
      "iprec_at_recall_1.00  \t26\t0.0000\n",
      "P_5                   \t26\t0.2000\n",
      "P_10                  \t26\t0.1000\n",
      "P_15                  \t26\t0.0667\n",
      "P_20                  \t26\t0.0500\n",
      "P_30                  \t26\t0.0333\n",
      "P_100                 \t26\t0.0100\n",
      "P_200                 \t26\t0.0050\n",
      "P_500                 \t26\t0.0020\n",
      "P_1000                \t26\t0.0010\n",
      "num_ret               \t28\t22\n",
      "num_rel               \t28\t2\n",
      "num_rel_ret           \t28\t0\n",
      "map                   \t28\t0.0000\n",
      "Rprec                 \t28\t0.0000\n",
      "bpref                 \t28\t0.0000\n",
      "recip_rank            \t28\t0.0000\n",
      "iprec_at_recall_0.00  \t28\t0.0000\n",
      "iprec_at_recall_0.10  \t28\t0.0000\n",
      "iprec_at_recall_0.20  \t28\t0.0000\n",
      "iprec_at_recall_0.30  \t28\t0.0000\n",
      "iprec_at_recall_0.40  \t28\t0.0000\n",
      "iprec_at_recall_0.50  \t28\t0.0000\n",
      "iprec_at_recall_0.60  \t28\t0.0000\n",
      "iprec_at_recall_0.70  \t28\t0.0000\n",
      "iprec_at_recall_0.80  \t28\t0.0000\n",
      "iprec_at_recall_0.90  \t28\t0.0000\n",
      "iprec_at_recall_1.00  \t28\t0.0000\n",
      "P_5                   \t28\t0.0000\n",
      "P_10                  \t28\t0.0000\n",
      "P_15                  \t28\t0.0000\n",
      "P_20                  \t28\t0.0000\n",
      "P_30                  \t28\t0.0000\n",
      "P_100                 \t28\t0.0000\n",
      "P_200                 \t28\t0.0000\n",
      "P_500                 \t28\t0.0000\n",
      "P_1000                \t28\t0.0000\n",
      "num_ret               \t4\t12\n",
      "num_rel               \t4\t4\n",
      "num_rel_ret           \t4\t1\n",
      "map                   \t4\t0.0312\n",
      "Rprec                 \t4\t0.0000\n",
      "bpref                 \t4\t0.0000\n",
      "recip_rank            \t4\t0.1250\n",
      "iprec_at_recall_0.00  \t4\t0.1250\n",
      "iprec_at_recall_0.10  \t4\t0.1250\n",
      "iprec_at_recall_0.20  \t4\t0.1250\n",
      "iprec_at_recall_0.30  \t4\t0.0000\n",
      "iprec_at_recall_0.40  \t4\t0.0000\n",
      "iprec_at_recall_0.50  \t4\t0.0000\n",
      "iprec_at_recall_0.60  \t4\t0.0000\n",
      "iprec_at_recall_0.70  \t4\t0.0000\n",
      "iprec_at_recall_0.80  \t4\t0.0000\n",
      "iprec_at_recall_0.90  \t4\t0.0000\n",
      "iprec_at_recall_1.00  \t4\t0.0000\n",
      "P_5                   \t4\t0.0000\n",
      "P_10                  \t4\t0.1000\n",
      "P_15                  \t4\t0.0667\n",
      "P_20                  \t4\t0.0500\n",
      "P_30                  \t4\t0.0333\n",
      "P_100                 \t4\t0.0100\n",
      "P_200                 \t4\t0.0050\n",
      "P_500                 \t4\t0.0020\n",
      "P_1000                \t4\t0.0010\n",
      "num_ret               \t6\t5\n",
      "num_rel               \t6\t1\n",
      "num_rel_ret           \t6\t0\n",
      "map                   \t6\t0.0000\n",
      "Rprec                 \t6\t0.0000\n",
      "bpref                 \t6\t0.0000\n",
      "recip_rank            \t6\t0.0000\n",
      "iprec_at_recall_0.00  \t6\t0.0000\n",
      "iprec_at_recall_0.10  \t6\t0.0000\n",
      "iprec_at_recall_0.20  \t6\t0.0000\n",
      "iprec_at_recall_0.30  \t6\t0.0000\n",
      "iprec_at_recall_0.40  \t6\t0.0000\n",
      "iprec_at_recall_0.50  \t6\t0.0000\n",
      "iprec_at_recall_0.60  \t6\t0.0000\n",
      "iprec_at_recall_0.70  \t6\t0.0000\n",
      "iprec_at_recall_0.80  \t6\t0.0000\n",
      "iprec_at_recall_0.90  \t6\t0.0000\n",
      "iprec_at_recall_1.00  \t6\t0.0000\n",
      "P_5                   \t6\t0.0000\n",
      "P_10                  \t6\t0.0000\n",
      "P_15                  \t6\t0.0000\n",
      "P_20                  \t6\t0.0000\n",
      "P_30                  \t6\t0.0000\n",
      "P_100                 \t6\t0.0000\n",
      "P_200                 \t6\t0.0000\n",
      "P_500                 \t6\t0.0000\n",
      "P_1000                \t6\t0.0000\n",
      "num_ret               \t7\t7\n",
      "num_rel               \t7\t3\n",
      "num_rel_ret           \t7\t0\n",
      "map                   \t7\t0.0000\n",
      "Rprec                 \t7\t0.0000\n",
      "bpref                 \t7\t0.0000\n",
      "recip_rank            \t7\t0.0000\n",
      "iprec_at_recall_0.00  \t7\t0.0000\n",
      "iprec_at_recall_0.10  \t7\t0.0000\n",
      "iprec_at_recall_0.20  \t7\t0.0000\n",
      "iprec_at_recall_0.30  \t7\t0.0000\n",
      "iprec_at_recall_0.40  \t7\t0.0000\n",
      "iprec_at_recall_0.50  \t7\t0.0000\n",
      "iprec_at_recall_0.60  \t7\t0.0000\n",
      "iprec_at_recall_0.70  \t7\t0.0000\n",
      "iprec_at_recall_0.80  \t7\t0.0000\n",
      "iprec_at_recall_0.90  \t7\t0.0000\n",
      "iprec_at_recall_1.00  \t7\t0.0000\n",
      "P_5                   \t7\t0.0000\n",
      "P_10                  \t7\t0.0000\n",
      "P_15                  \t7\t0.0000\n",
      "P_20                  \t7\t0.0000\n",
      "P_30                  \t7\t0.0000\n",
      "P_100                 \t7\t0.0000\n",
      "P_200                 \t7\t0.0000\n",
      "P_500                 \t7\t0.0000\n",
      "P_1000                \t7\t0.0000\n",
      "num_ret               \t9\t2\n",
      "num_rel               \t9\t1\n",
      "num_rel_ret           \t9\t0\n",
      "map                   \t9\t0.0000\n",
      "Rprec                 \t9\t0.0000\n",
      "bpref                 \t9\t0.0000\n",
      "recip_rank            \t9\t0.0000\n",
      "iprec_at_recall_0.00  \t9\t0.0000\n",
      "iprec_at_recall_0.10  \t9\t0.0000\n",
      "iprec_at_recall_0.20  \t9\t0.0000\n",
      "iprec_at_recall_0.30  \t9\t0.0000\n",
      "iprec_at_recall_0.40  \t9\t0.0000\n",
      "iprec_at_recall_0.50  \t9\t0.0000\n",
      "iprec_at_recall_0.60  \t9\t0.0000\n",
      "iprec_at_recall_0.70  \t9\t0.0000\n",
      "iprec_at_recall_0.80  \t9\t0.0000\n",
      "iprec_at_recall_0.90  \t9\t0.0000\n",
      "iprec_at_recall_1.00  \t9\t0.0000\n",
      "P_5                   \t9\t0.0000\n",
      "P_10                  \t9\t0.0000\n",
      "P_15                  \t9\t0.0000\n",
      "P_20                  \t9\t0.0000\n",
      "P_30                  \t9\t0.0000\n",
      "P_100                 \t9\t0.0000\n",
      "P_200                 \t9\t0.0000\n",
      "P_500                 \t9\t0.0000\n",
      "P_1000                \t9\t0.0000\n",
      "runid                 \tall\ttest\n",
      "num_q                 \tall\t14\n",
      "num_ret               \tall\t151\n",
      "num_rel               \tall\t33\n",
      "num_rel_ret           \tall\t7\n",
      "map                   \tall\t0.1971\n",
      "gm_map                \tall\t0.0015\n",
      "Rprec                 \tall\t0.1667\n",
      "bpref                 \tall\t0.1508\n",
      "recip_rank            \tall\t0.2196\n",
      "iprec_at_recall_0.00  \tall\t0.2196\n",
      "iprec_at_recall_0.10  \tall\t0.2196\n",
      "iprec_at_recall_0.20  \tall\t0.2196\n",
      "iprec_at_recall_0.30  \tall\t0.2107\n",
      "iprec_at_recall_0.40  \tall\t0.1869\n",
      "iprec_at_recall_0.50  \tall\t0.1869\n",
      "iprec_at_recall_0.60  \tall\t0.1869\n",
      "iprec_at_recall_0.70  \tall\t0.1869\n",
      "iprec_at_recall_0.80  \tall\t0.1869\n",
      "iprec_at_recall_0.90  \tall\t0.1869\n",
      "iprec_at_recall_1.00  \tall\t0.1869\n",
      "P_5                   \tall\t0.0714\n",
      "P_10                  \tall\t0.0500\n",
      "P_15                  \tall\t0.0333\n",
      "P_20                  \tall\t0.0250\n",
      "P_30                  \tall\t0.0167\n",
      "P_100                 \tall\t0.0050\n",
      "P_200                 \tall\t0.0025\n",
      "P_500                 \tall\t0.0010\n",
      "P_1000                \tall\t0.0005\n"
     ]
    }
   ],
   "source": [
    "!$TREC_EVAL -q $QRELS_FILE $OUTPUT_FILE"
   ]
  },
  {
   "cell_type": "markdown",
   "metadata": {},
   "source": [
    "### Q2 (b) How well did the baseline Whoosh system do on your chosen measure? [Provide the number.]\n",
    "### <font color='blue'> Q2 (b): P_10 for all queries is .05 </font>"
   ]
  },
  {
   "cell_type": "markdown",
   "metadata": {},
   "source": [
    "### Q2 (c) Are there any particular topics where it did very well, or very badly?  [If so, list a few topic IDs for each]\n",
    "###  <font color='blue'> Q2 (c): Whoosh didn't do particularly well on any one query (the highest precision score is 10%), and it did very poorly (0% percision) on queries # 1, 2, 6, 7, 9, 16 and 28. </font>"
   ]
  },
  {
   "cell_type": "markdown",
   "metadata": {},
   "source": [
    "## Question 3"
   ]
  },
  {
   "cell_type": "markdown",
   "metadata": {},
   "source": [
    "### Q3 (a): What do you think would improve Whoosh’s performance on this test collection, and why?\n",
    "### <font color='blue'> Q3 (a): I am analyzing Whoosh's performance of Query # 26, \"Nuclear power plants\". This topic has 3 relevant documents accociated with it. The baseline search retreived 25 documents, only one of which is actually relevant (ranked as third highest result). </font>\n",
    "\n",
    "### <font color='blue'> The first retrieved document in the baseline search is doc G00-61-1118212, a false positive. This is an old International Nuclear Safety Program (INSP) website about a program that improves safety of Soviet nuclear power plants. The document is higly ranked because all three keywords in the query appear multiple times, but it's not deemed relevant in the qrels file, potentially due to it's obsolescence (website hasn't been active since 2004) or highly specialy subject matter. A way to improve the search would be to adjust the query (e.g. \"Nuclear power plants NOT Soviet\" or to consider document age when ranking documents (out of scope of this assignment). </font>\n",
    "\n",
    "### <font color='blue'> Document G00-92-1620651 is a relevant document, but isn't retreived in the search (false negative). This is because the word \"plants\" doesn't appear in the document, however the term \"Nuclear Power Plant\" does. For the search to be able to retreive this document, a way to change it is to ignore the plural modifier and index all nouns in their singular form.</font>\n"
   ]
  },
  {
   "cell_type": "markdown",
   "metadata": {},
   "source": [
    "### Based on your analysis, make any changes you think can improve your baseline.  Run your modified version of Whoosh, and look again at the evaluation measure you chose.  Save your new  index  in  the  provided  variable INDEX_Q3, your  query  parser  in  the  provided  variable QP_Q3, and your searcher in the provided variable SEARCHER_Q3.\n",
    "### Q3 (b): Write your code below"
   ]
  },
  {
   "cell_type": "code",
   "execution_count": 21,
   "metadata": {
    "collapsed": true
   },
   "outputs": [],
   "source": [
    "# Put your code for creating the index here (you can add more cells).\n",
    "# Make sure you save the final index in the variable INDEX_Q3, your query parser in QP_Q3, and your searcher in SEARCHER_Q3"
   ]
  },
  {
   "cell_type": "code",
   "execution_count": 22,
   "metadata": {
    "collapsed": true
   },
   "outputs": [],
   "source": [
    "mySchema2 = Schema(file_path = ID(stored=True),\n",
    "                  file_content = TEXT(analyzer = RegexTokenizer()| StemFilter()| LowercaseFilter()))\n",
    "\n",
    "# if index exists - remove it\n",
    "if os.path.isdir(INDEX_DIR2):\n",
    "    shutil.rmtree(INDEX_DIR2)\n",
    "\n",
    "# create the directory for the index\n",
    "os.makedirs(INDEX_DIR2)"
   ]
  },
  {
   "cell_type": "code",
   "execution_count": 23,
   "metadata": {
    "collapsed": true
   },
   "outputs": [],
   "source": [
    "# create index\n",
    "myIndex2 = index.create_in(INDEX_DIR2, mySchema2)"
   ]
  },
  {
   "cell_type": "code",
   "execution_count": 24,
   "metadata": {
    "collapsed": true
   },
   "outputs": [],
   "source": [
    "#INDEXING THE DOCUMENTS\n",
    "# first we build a list of all the full paths of the files in DOCUMENTS_DIR\n",
    "filesToIndex = []\n",
    "for root, dirs, files in os.walk(DOCUMENTS_DIR):\n",
    "    filePaths = [os.path.join(root, fileName) for fileName in files if not fileName.startswith('.')]\n",
    "    filesToIndex.extend(filePaths)"
   ]
  },
  {
   "cell_type": "code",
   "execution_count": 25,
   "metadata": {},
   "outputs": [
    {
     "name": "stdout",
     "output_type": "stream",
     "text": [
      "already indexed: 1\n",
      "already indexed: 1001\n",
      "already indexed: 2001\n",
      "already indexed: 3001\n",
      "already indexed: 4001\n",
      "done indexing.\n"
     ]
    }
   ],
   "source": [
    "# open writer\n",
    "myWriter = writing.BufferedWriter(myIndex2, period=20, limit=1000)\n",
    "\n",
    "try:\n",
    "    # write each file to index\n",
    "    for docNum, filePath in enumerate(filesToIndex):\n",
    "        with open(filePath, \"r\", encoding=\"utf-8\") as f:\n",
    "            fileContent = f.read()\n",
    "            myWriter.add_document(file_path = filePath,\n",
    "                                  file_content = fileContent)\n",
    "            \n",
    "            if (docNum % 1000 == 0):\n",
    "                print(\"already indexed:\", docNum+1)\n",
    "    print(\"done indexing.\")\n",
    "\n",
    "finally:\n",
    "    # save the index\n",
    "    myWriter.close()"
   ]
  },
  {
   "cell_type": "code",
   "execution_count": 26,
   "metadata": {
    "collapsed": true
   },
   "outputs": [],
   "source": [
    "#querying\n",
    "\n",
    "# define a query parser for the field \"file_content\" in the index\n",
    "myQueryParser2 = QueryParser(\"file_content\", schema=myIndex2.schema)\n",
    "mySearcher2 = myIndex2.searcher()\n"
   ]
  },
  {
   "cell_type": "code",
   "execution_count": 27,
   "metadata": {
    "collapsed": true
   },
   "outputs": [],
   "source": [
    "INDEX_Q3 = myIndex2 # Replace None with your index for Q3\n",
    "QP_Q3 = myQueryParser2 # Replace None with your query parser for Q3\n",
    "SEARCHER_Q3 = mySearcher2 # Replace None with your searcher for Q3"
   ]
  },
  {
   "cell_type": "code",
   "execution_count": 28,
   "metadata": {
    "collapsed": true
   },
   "outputs": [],
   "source": [
    "# Load topic file - a list of topics(search phrases) used for evalutation\n",
    "topicsFile = open(QUER_FILE,\"r\")\n",
    "topics = topicsFile.read().splitlines()\n",
    "\n",
    "\n",
    "# create an output file to which we'll write our results\n",
    "outputTRECFile = open(OUTPUT_FILE2, \"w\")\n",
    "\n",
    "# for each evaluated topic:\n",
    "# build a query and record the results in the file in TREC_EVAL format\n",
    "for topic in topics:\n",
    "    topic_id, topic_phrase = tuple(topic.split(\" \", 1))\n",
    "    topicQuery = myQueryParser2.parse(topic_phrase)\n",
    "    topicResults = mySearcher2.search(topicQuery, limit=None)\n",
    "    for (docnum, result) in enumerate(topicResults):\n",
    "        score = topicResults.score(docnum)\n",
    "        outputTRECFile.write(\"%s Q0 %s %d %lf test\\n\" % (topic_id, os.path.basename(result[\"file_path\"]), docnum, score))\n",
    "\n",
    "# close the topic and results file\n",
    "outputTRECFile.close()\n",
    "topicsFile.close()\n"
   ]
  },
  {
   "cell_type": "code",
   "execution_count": 29,
   "metadata": {},
   "outputs": [
    {
     "name": "stdout",
     "output_type": "stream",
     "text": [
      "num_ret               \t1\t3\n",
      "num_rel               \t1\t5\n",
      "num_rel_ret           \t1\t0\n",
      "map                   \t1\t0.0000\n",
      "Rprec                 \t1\t0.0000\n",
      "bpref                 \t1\t0.0000\n",
      "recip_rank            \t1\t0.0000\n",
      "iprec_at_recall_0.00  \t1\t0.0000\n",
      "iprec_at_recall_0.10  \t1\t0.0000\n",
      "iprec_at_recall_0.20  \t1\t0.0000\n",
      "iprec_at_recall_0.30  \t1\t0.0000\n",
      "iprec_at_recall_0.40  \t1\t0.0000\n",
      "iprec_at_recall_0.50  \t1\t0.0000\n",
      "iprec_at_recall_0.60  \t1\t0.0000\n",
      "iprec_at_recall_0.70  \t1\t0.0000\n",
      "iprec_at_recall_0.80  \t1\t0.0000\n",
      "iprec_at_recall_0.90  \t1\t0.0000\n",
      "iprec_at_recall_1.00  \t1\t0.0000\n",
      "P_5                   \t1\t0.0000\n",
      "P_10                  \t1\t0.0000\n",
      "P_15                  \t1\t0.0000\n",
      "P_20                  \t1\t0.0000\n",
      "P_30                  \t1\t0.0000\n",
      "P_100                 \t1\t0.0000\n",
      "P_200                 \t1\t0.0000\n",
      "P_500                 \t1\t0.0000\n",
      "P_1000                \t1\t0.0000\n",
      "num_ret               \t10\t42\n",
      "num_rel               \t10\t1\n",
      "num_rel_ret           \t10\t1\n",
      "map                   \t10\t0.2000\n",
      "Rprec                 \t10\t0.0000\n",
      "bpref                 \t10\t0.0000\n",
      "recip_rank            \t10\t0.2000\n",
      "iprec_at_recall_0.00  \t10\t0.2000\n",
      "iprec_at_recall_0.10  \t10\t0.2000\n",
      "iprec_at_recall_0.20  \t10\t0.2000\n",
      "iprec_at_recall_0.30  \t10\t0.2000\n",
      "iprec_at_recall_0.40  \t10\t0.2000\n",
      "iprec_at_recall_0.50  \t10\t0.2000\n",
      "iprec_at_recall_0.60  \t10\t0.2000\n",
      "iprec_at_recall_0.70  \t10\t0.2000\n",
      "iprec_at_recall_0.80  \t10\t0.2000\n",
      "iprec_at_recall_0.90  \t10\t0.2000\n",
      "iprec_at_recall_1.00  \t10\t0.2000\n",
      "P_5                   \t10\t0.2000\n",
      "P_10                  \t10\t0.1000\n",
      "P_15                  \t10\t0.0667\n",
      "P_20                  \t10\t0.0500\n",
      "P_30                  \t10\t0.0333\n",
      "P_100                 \t10\t0.0100\n",
      "P_200                 \t10\t0.0050\n",
      "P_500                 \t10\t0.0020\n",
      "P_1000                \t10\t0.0010\n",
      "num_ret               \t14\t26\n",
      "num_rel               \t14\t1\n",
      "num_rel_ret           \t14\t1\n",
      "map                   \t14\t1.0000\n",
      "Rprec                 \t14\t1.0000\n",
      "bpref                 \t14\t1.0000\n",
      "recip_rank            \t14\t1.0000\n",
      "iprec_at_recall_0.00  \t14\t1.0000\n",
      "iprec_at_recall_0.10  \t14\t1.0000\n",
      "iprec_at_recall_0.20  \t14\t1.0000\n",
      "iprec_at_recall_0.30  \t14\t1.0000\n",
      "iprec_at_recall_0.40  \t14\t1.0000\n",
      "iprec_at_recall_0.50  \t14\t1.0000\n",
      "iprec_at_recall_0.60  \t14\t1.0000\n",
      "iprec_at_recall_0.70  \t14\t1.0000\n",
      "iprec_at_recall_0.80  \t14\t1.0000\n",
      "iprec_at_recall_0.90  \t14\t1.0000\n",
      "iprec_at_recall_1.00  \t14\t1.0000\n",
      "P_5                   \t14\t0.2000\n",
      "P_10                  \t14\t0.1000\n",
      "P_15                  \t14\t0.0667\n",
      "P_20                  \t14\t0.0500\n",
      "P_30                  \t14\t0.0333\n",
      "P_100                 \t14\t0.0100\n",
      "P_200                 \t14\t0.0050\n",
      "P_500                 \t14\t0.0020\n",
      "P_1000                \t14\t0.0010\n",
      "num_ret               \t16\t17\n",
      "num_rel               \t16\t7\n",
      "num_rel_ret           \t16\t0\n",
      "map                   \t16\t0.0000\n",
      "Rprec                 \t16\t0.0000\n",
      "bpref                 \t16\t0.0000\n",
      "recip_rank            \t16\t0.0000\n",
      "iprec_at_recall_0.00  \t16\t0.0000\n",
      "iprec_at_recall_0.10  \t16\t0.0000\n",
      "iprec_at_recall_0.20  \t16\t0.0000\n",
      "iprec_at_recall_0.30  \t16\t0.0000\n",
      "iprec_at_recall_0.40  \t16\t0.0000\n",
      "iprec_at_recall_0.50  \t16\t0.0000\n",
      "iprec_at_recall_0.60  \t16\t0.0000\n",
      "iprec_at_recall_0.70  \t16\t0.0000\n",
      "iprec_at_recall_0.80  \t16\t0.0000\n",
      "iprec_at_recall_0.90  \t16\t0.0000\n",
      "iprec_at_recall_1.00  \t16\t0.0000\n",
      "P_5                   \t16\t0.0000\n",
      "P_10                  \t16\t0.0000\n",
      "P_15                  \t16\t0.0000\n",
      "P_20                  \t16\t0.0000\n",
      "P_30                  \t16\t0.0000\n",
      "P_100                 \t16\t0.0000\n",
      "P_200                 \t16\t0.0000\n",
      "P_500                 \t16\t0.0000\n",
      "P_1000                \t16\t0.0000\n",
      "num_ret               \t18\t32\n",
      "num_rel               \t18\t1\n",
      "num_rel_ret           \t18\t1\n",
      "map                   \t18\t1.0000\n",
      "Rprec                 \t18\t1.0000\n",
      "bpref                 \t18\t1.0000\n",
      "recip_rank            \t18\t1.0000\n",
      "iprec_at_recall_0.00  \t18\t1.0000\n",
      "iprec_at_recall_0.10  \t18\t1.0000\n",
      "iprec_at_recall_0.20  \t18\t1.0000\n",
      "iprec_at_recall_0.30  \t18\t1.0000\n",
      "iprec_at_recall_0.40  \t18\t1.0000\n",
      "iprec_at_recall_0.50  \t18\t1.0000\n",
      "iprec_at_recall_0.60  \t18\t1.0000\n",
      "iprec_at_recall_0.70  \t18\t1.0000\n",
      "iprec_at_recall_0.80  \t18\t1.0000\n",
      "iprec_at_recall_0.90  \t18\t1.0000\n",
      "iprec_at_recall_1.00  \t18\t1.0000\n",
      "P_5                   \t18\t0.2000\n",
      "P_10                  \t18\t0.1000\n",
      "P_15                  \t18\t0.0667\n",
      "P_20                  \t18\t0.0500\n",
      "P_30                  \t18\t0.0333\n",
      "P_100                 \t18\t0.0100\n",
      "P_200                 \t18\t0.0050\n",
      "P_500                 \t18\t0.0020\n",
      "P_1000                \t18\t0.0010\n",
      "num_ret               \t19\t5\n",
      "num_rel               \t19\t2\n",
      "num_rel_ret           \t19\t1\n",
      "map                   \t19\t0.5000\n",
      "Rprec                 \t19\t0.5000\n",
      "bpref                 \t19\t0.5000\n",
      "recip_rank            \t19\t1.0000\n",
      "iprec_at_recall_0.00  \t19\t1.0000\n",
      "iprec_at_recall_0.10  \t19\t1.0000\n",
      "iprec_at_recall_0.20  \t19\t1.0000\n",
      "iprec_at_recall_0.30  \t19\t1.0000\n",
      "iprec_at_recall_0.40  \t19\t1.0000\n",
      "iprec_at_recall_0.50  \t19\t1.0000\n",
      "iprec_at_recall_0.60  \t19\t0.0000\n",
      "iprec_at_recall_0.70  \t19\t0.0000\n",
      "iprec_at_recall_0.80  \t19\t0.0000\n",
      "iprec_at_recall_0.90  \t19\t0.0000\n",
      "iprec_at_recall_1.00  \t19\t0.0000\n",
      "P_5                   \t19\t0.2000\n",
      "P_10                  \t19\t0.1000\n",
      "P_15                  \t19\t0.0667\n",
      "P_20                  \t19\t0.0500\n",
      "P_30                  \t19\t0.0333\n",
      "P_100                 \t19\t0.0100\n",
      "P_200                 \t19\t0.0050\n",
      "P_500                 \t19\t0.0020\n",
      "P_1000                \t19\t0.0010\n",
      "num_ret               \t2\t13\n",
      "num_rel               \t2\t2\n",
      "num_rel_ret           \t2\t1\n",
      "map                   \t2\t0.5000\n",
      "Rprec                 \t2\t0.5000\n",
      "bpref                 \t2\t0.5000\n",
      "recip_rank            \t2\t1.0000\n",
      "iprec_at_recall_0.00  \t2\t1.0000\n",
      "iprec_at_recall_0.10  \t2\t1.0000\n",
      "iprec_at_recall_0.20  \t2\t1.0000\n",
      "iprec_at_recall_0.30  \t2\t1.0000\n",
      "iprec_at_recall_0.40  \t2\t1.0000\n",
      "iprec_at_recall_0.50  \t2\t1.0000\n",
      "iprec_at_recall_0.60  \t2\t0.0000\n",
      "iprec_at_recall_0.70  \t2\t0.0000\n",
      "iprec_at_recall_0.80  \t2\t0.0000\n",
      "iprec_at_recall_0.90  \t2\t0.0000\n",
      "iprec_at_recall_1.00  \t2\t0.0000\n",
      "P_5                   \t2\t0.2000\n",
      "P_10                  \t2\t0.1000\n",
      "P_15                  \t2\t0.0667\n",
      "P_20                  \t2\t0.0500\n",
      "P_30                  \t2\t0.0333\n",
      "P_100                 \t2\t0.0100\n",
      "P_200                 \t2\t0.0050\n",
      "P_500                 \t2\t0.0020\n",
      "P_1000                \t2\t0.0010\n",
      "num_ret               \t22\t86\n",
      "num_rel               \t22\t1\n",
      "num_rel_ret           \t22\t1\n",
      "map                   \t22\t0.0526\n",
      "Rprec                 \t22\t0.0000\n",
      "bpref                 \t22\t0.0000\n",
      "recip_rank            \t22\t0.0526\n",
      "iprec_at_recall_0.00  \t22\t0.0526\n",
      "iprec_at_recall_0.10  \t22\t0.0526\n",
      "iprec_at_recall_0.20  \t22\t0.0526\n",
      "iprec_at_recall_0.30  \t22\t0.0526\n",
      "iprec_at_recall_0.40  \t22\t0.0526\n",
      "iprec_at_recall_0.50  \t22\t0.0526\n",
      "iprec_at_recall_0.60  \t22\t0.0526\n",
      "iprec_at_recall_0.70  \t22\t0.0526\n",
      "iprec_at_recall_0.80  \t22\t0.0526\n",
      "iprec_at_recall_0.90  \t22\t0.0526\n",
      "iprec_at_recall_1.00  \t22\t0.0526\n",
      "P_5                   \t22\t0.0000\n",
      "P_10                  \t22\t0.0000\n",
      "P_15                  \t22\t0.0000\n",
      "P_20                  \t22\t0.0500\n",
      "P_30                  \t22\t0.0333\n",
      "P_100                 \t22\t0.0100\n",
      "P_200                 \t22\t0.0050\n",
      "P_500                 \t22\t0.0020\n",
      "P_1000                \t22\t0.0010\n",
      "num_ret               \t24\t20\n",
      "num_rel               \t24\t1\n",
      "num_rel_ret           \t24\t1\n",
      "map                   \t24\t1.0000\n",
      "Rprec                 \t24\t1.0000\n",
      "bpref                 \t24\t1.0000\n",
      "recip_rank            \t24\t1.0000\n",
      "iprec_at_recall_0.00  \t24\t1.0000\n",
      "iprec_at_recall_0.10  \t24\t1.0000\n",
      "iprec_at_recall_0.20  \t24\t1.0000\n",
      "iprec_at_recall_0.30  \t24\t1.0000\n",
      "iprec_at_recall_0.40  \t24\t1.0000\n",
      "iprec_at_recall_0.50  \t24\t1.0000\n",
      "iprec_at_recall_0.60  \t24\t1.0000\n",
      "iprec_at_recall_0.70  \t24\t1.0000\n",
      "iprec_at_recall_0.80  \t24\t1.0000\n",
      "iprec_at_recall_0.90  \t24\t1.0000\n",
      "iprec_at_recall_1.00  \t24\t1.0000\n",
      "P_5                   \t24\t0.2000\n",
      "P_10                  \t24\t0.1000\n",
      "P_15                  \t24\t0.0667\n",
      "P_20                  \t24\t0.0500\n",
      "P_30                  \t24\t0.0333\n",
      "P_100                 \t24\t0.0100\n",
      "P_200                 \t24\t0.0050\n",
      "P_500                 \t24\t0.0020\n",
      "P_1000                \t24\t0.0010\n",
      "num_ret               \t26\t51\n",
      "num_rel               \t26\t3\n",
      "num_rel_ret           \t26\t2\n",
      "map                   \t26\t0.0778\n",
      "Rprec                 \t26\t0.0000\n",
      "bpref                 \t26\t0.0000\n",
      "recip_rank            \t26\t0.1667\n",
      "iprec_at_recall_0.00  \t26\t0.1667\n",
      "iprec_at_recall_0.10  \t26\t0.1667\n",
      "iprec_at_recall_0.20  \t26\t0.1667\n",
      "iprec_at_recall_0.30  \t26\t0.1667\n",
      "iprec_at_recall_0.40  \t26\t0.0667\n",
      "iprec_at_recall_0.50  \t26\t0.0667\n",
      "iprec_at_recall_0.60  \t26\t0.0667\n",
      "iprec_at_recall_0.70  \t26\t0.0667\n",
      "iprec_at_recall_0.80  \t26\t0.0000\n",
      "iprec_at_recall_0.90  \t26\t0.0000\n",
      "iprec_at_recall_1.00  \t26\t0.0000\n",
      "P_5                   \t26\t0.0000\n",
      "P_10                  \t26\t0.1000\n",
      "P_15                  \t26\t0.0667\n",
      "P_20                  \t26\t0.0500\n",
      "P_30                  \t26\t0.0667\n",
      "P_100                 \t26\t0.0200\n",
      "P_200                 \t26\t0.0100\n",
      "P_500                 \t26\t0.0040\n",
      "P_1000                \t26\t0.0020\n",
      "num_ret               \t28\t34\n",
      "num_rel               \t28\t2\n",
      "num_rel_ret           \t28\t1\n",
      "map                   \t28\t0.0227\n",
      "Rprec                 \t28\t0.0000\n",
      "bpref                 \t28\t0.0000\n",
      "recip_rank            \t28\t0.0455\n",
      "iprec_at_recall_0.00  \t28\t0.0455\n",
      "iprec_at_recall_0.10  \t28\t0.0455\n",
      "iprec_at_recall_0.20  \t28\t0.0455\n",
      "iprec_at_recall_0.30  \t28\t0.0455\n",
      "iprec_at_recall_0.40  \t28\t0.0455\n",
      "iprec_at_recall_0.50  \t28\t0.0455\n",
      "iprec_at_recall_0.60  \t28\t0.0000\n",
      "iprec_at_recall_0.70  \t28\t0.0000\n",
      "iprec_at_recall_0.80  \t28\t0.0000\n",
      "iprec_at_recall_0.90  \t28\t0.0000\n",
      "iprec_at_recall_1.00  \t28\t0.0000\n",
      "P_5                   \t28\t0.0000\n",
      "P_10                  \t28\t0.0000\n",
      "P_15                  \t28\t0.0000\n",
      "P_20                  \t28\t0.0000\n",
      "P_30                  \t28\t0.0333\n",
      "P_100                 \t28\t0.0100\n",
      "P_200                 \t28\t0.0050\n",
      "P_500                 \t28\t0.0020\n",
      "P_1000                \t28\t0.0010\n",
      "num_ret               \t4\t39\n",
      "num_rel               \t4\t4\n",
      "num_rel_ret           \t4\t3\n",
      "map                   \t4\t0.5375\n",
      "Rprec                 \t4\t0.5000\n",
      "bpref                 \t4\t0.5000\n",
      "recip_rank            \t4\t1.0000\n",
      "iprec_at_recall_0.00  \t4\t1.0000\n",
      "iprec_at_recall_0.10  \t4\t1.0000\n",
      "iprec_at_recall_0.20  \t4\t1.0000\n",
      "iprec_at_recall_0.30  \t4\t1.0000\n",
      "iprec_at_recall_0.40  \t4\t1.0000\n",
      "iprec_at_recall_0.50  \t4\t1.0000\n",
      "iprec_at_recall_0.60  \t4\t0.1500\n",
      "iprec_at_recall_0.70  \t4\t0.1500\n",
      "iprec_at_recall_0.80  \t4\t0.0000\n",
      "iprec_at_recall_0.90  \t4\t0.0000\n",
      "iprec_at_recall_1.00  \t4\t0.0000\n",
      "P_5                   \t4\t0.4000\n",
      "P_10                  \t4\t0.2000\n",
      "P_15                  \t4\t0.1333\n",
      "P_20                  \t4\t0.1500\n",
      "P_30                  \t4\t0.1000\n",
      "P_100                 \t4\t0.0300\n",
      "P_200                 \t4\t0.0150\n",
      "P_500                 \t4\t0.0060\n",
      "P_1000                \t4\t0.0030\n",
      "num_ret               \t6\t13\n",
      "num_rel               \t6\t1\n",
      "num_rel_ret           \t6\t0\n",
      "map                   \t6\t0.0000\n",
      "Rprec                 \t6\t0.0000\n",
      "bpref                 \t6\t0.0000\n",
      "recip_rank            \t6\t0.0000\n",
      "iprec_at_recall_0.00  \t6\t0.0000\n",
      "iprec_at_recall_0.10  \t6\t0.0000\n",
      "iprec_at_recall_0.20  \t6\t0.0000\n",
      "iprec_at_recall_0.30  \t6\t0.0000\n",
      "iprec_at_recall_0.40  \t6\t0.0000\n",
      "iprec_at_recall_0.50  \t6\t0.0000\n",
      "iprec_at_recall_0.60  \t6\t0.0000\n",
      "iprec_at_recall_0.70  \t6\t0.0000\n",
      "iprec_at_recall_0.80  \t6\t0.0000\n",
      "iprec_at_recall_0.90  \t6\t0.0000\n",
      "iprec_at_recall_1.00  \t6\t0.0000\n",
      "P_5                   \t6\t0.0000\n",
      "P_10                  \t6\t0.0000\n",
      "P_15                  \t6\t0.0000\n",
      "P_20                  \t6\t0.0000\n",
      "P_30                  \t6\t0.0000\n",
      "P_100                 \t6\t0.0000\n",
      "P_200                 \t6\t0.0000\n",
      "P_500                 \t6\t0.0000\n",
      "P_1000                \t6\t0.0000\n",
      "num_ret               \t7\t14\n",
      "num_rel               \t7\t3\n",
      "num_rel_ret           \t7\t0\n",
      "map                   \t7\t0.0000\n",
      "Rprec                 \t7\t0.0000\n",
      "bpref                 \t7\t0.0000\n",
      "recip_rank            \t7\t0.0000\n",
      "iprec_at_recall_0.00  \t7\t0.0000\n",
      "iprec_at_recall_0.10  \t7\t0.0000\n",
      "iprec_at_recall_0.20  \t7\t0.0000\n",
      "iprec_at_recall_0.30  \t7\t0.0000\n",
      "iprec_at_recall_0.40  \t7\t0.0000\n",
      "iprec_at_recall_0.50  \t7\t0.0000\n",
      "iprec_at_recall_0.60  \t7\t0.0000\n",
      "iprec_at_recall_0.70  \t7\t0.0000\n",
      "iprec_at_recall_0.80  \t7\t0.0000\n",
      "iprec_at_recall_0.90  \t7\t0.0000\n",
      "iprec_at_recall_1.00  \t7\t0.0000\n",
      "P_5                   \t7\t0.0000\n",
      "P_10                  \t7\t0.0000\n",
      "P_15                  \t7\t0.0000\n",
      "P_20                  \t7\t0.0000\n",
      "P_30                  \t7\t0.0000\n",
      "P_100                 \t7\t0.0000\n",
      "P_200                 \t7\t0.0000\n",
      "P_500                 \t7\t0.0000\n",
      "P_1000                \t7\t0.0000\n",
      "num_ret               \t9\t27\n",
      "num_rel               \t9\t1\n",
      "num_rel_ret           \t9\t1\n",
      "map                   \t9\t0.0588\n",
      "Rprec                 \t9\t0.0000\n",
      "bpref                 \t9\t0.0000\n",
      "recip_rank            \t9\t0.0588\n",
      "iprec_at_recall_0.00  \t9\t0.0588\n",
      "iprec_at_recall_0.10  \t9\t0.0588\n",
      "iprec_at_recall_0.20  \t9\t0.0588\n",
      "iprec_at_recall_0.30  \t9\t0.0588\n",
      "iprec_at_recall_0.40  \t9\t0.0588\n",
      "iprec_at_recall_0.50  \t9\t0.0588\n",
      "iprec_at_recall_0.60  \t9\t0.0588\n",
      "iprec_at_recall_0.70  \t9\t0.0588\n",
      "iprec_at_recall_0.80  \t9\t0.0588\n",
      "iprec_at_recall_0.90  \t9\t0.0588\n",
      "iprec_at_recall_1.00  \t9\t0.0588\n",
      "P_5                   \t9\t0.0000\n",
      "P_10                  \t9\t0.0000\n",
      "P_15                  \t9\t0.0000\n",
      "P_20                  \t9\t0.0500\n",
      "P_30                  \t9\t0.0333\n",
      "P_100                 \t9\t0.0100\n",
      "P_200                 \t9\t0.0050\n",
      "P_500                 \t9\t0.0020\n",
      "P_1000                \t9\t0.0010\n",
      "runid                 \tall\ttest\n",
      "num_q                 \tall\t15\n",
      "num_ret               \tall\t422\n",
      "num_rel               \tall\t35\n",
      "num_rel_ret           \tall\t14\n",
      "map                   \tall\t0.3300\n",
      "gm_map                \tall\t0.0163\n",
      "Rprec                 \tall\t0.3000\n",
      "bpref                 \tall\t0.3000\n",
      "recip_rank            \tall\t0.4349\n",
      "iprec_at_recall_0.00  \tall\t0.4349\n",
      "iprec_at_recall_0.10  \tall\t0.4349\n",
      "iprec_at_recall_0.20  \tall\t0.4349\n",
      "iprec_at_recall_0.30  \tall\t0.4349\n",
      "iprec_at_recall_0.40  \tall\t0.4282\n",
      "iprec_at_recall_0.50  \tall\t0.4282\n",
      "iprec_at_recall_0.60  \tall\t0.2352\n",
      "iprec_at_recall_0.70  \tall\t0.2352\n",
      "iprec_at_recall_0.80  \tall\t0.2208\n",
      "iprec_at_recall_0.90  \tall\t0.2208\n",
      "iprec_at_recall_1.00  \tall\t0.2208\n",
      "P_5                   \tall\t0.1067\n",
      "P_10                  \tall\t0.0600\n",
      "P_15                  \tall\t0.0400\n",
      "P_20                  \tall\t0.0400\n",
      "P_30                  \tall\t0.0311\n",
      "P_100                 \tall\t0.0093\n",
      "P_200                 \tall\t0.0047\n",
      "P_500                 \tall\t0.0019\n",
      "P_1000                \tall\t0.0009\n"
     ]
    }
   ],
   "source": [
    "!$TREC_EVAL -q $QRELS_FILE $OUTPUT_FILE2"
   ]
  },
  {
   "cell_type": "markdown",
   "metadata": {},
   "source": [
    "### Q3 (c): What modifications did you make and what were the improvements?  explain whether there were  overall  improvements  (over  some/all  queries)  in  performance  and  also  whether  either the false negative or false positive cases from part (a) improved.  [1-3 sentences, any single improvement over the baseline is sufficient for full credit, but nonetheless, you are encouraged to explore]\n",
    "### <font color='blue'> Q3 (c): I implemented a stemmer and a lowercase filter. The P_10 measure increased only slightly - from .1 to .2 for a single query, bringing the average for all topics to .06. For query 26 the P_10 measure stayed the same, one false negative from before (see Q3a) was now retreived, but still ranked pretty low. Accross all documents, the number of the relevant document retreived doubled. </font>"
   ]
  },
  {
   "cell_type": "markdown",
   "metadata": {},
   "source": [
    "### Q3 (d): Did your changes improve things overall? [yes/no]\n",
    "### <font color='blue'> Q3 (d): Yes (looking at P10 only) </font>"
   ]
  },
  {
   "cell_type": "markdown",
   "metadata": {},
   "source": [
    "#### Q3 (e): Did some queries get better while others got worse? [yes/no]\n",
    "### <font color='blue'> Q3 (e): No, all queries stayed the same of got better. (looking at P10 only) </font>\n"
   ]
  },
  {
   "cell_type": "markdown",
   "metadata": {},
   "source": [
    "### Q3 (f): What do you think this means for your idea: was it good? Why or why not? [1-3 sentences]\n",
    "### <font color='blue'>Q3 (f): I think my idea was a good start to improve the search. Not discriminating between upper and lowercase letters, and singular/plural word forms assures that more relevant documents are retreived. However it did not do much to improve the rank of the relevant documents, and decrease is for non-relevant ones. </font>"
   ]
  },
  {
   "cell_type": "markdown",
   "metadata": {},
   "source": [
    "## Question 4 (Graduate Students)"
   ]
  },
  {
   "cell_type": "code",
   "execution_count": null,
   "metadata": {
    "collapsed": true
   },
   "outputs": [],
   "source": [
    "GRAD_STUDENT = False # change to True if you are a grad student"
   ]
  },
  {
   "cell_type": "markdown",
   "metadata": {},
   "source": [
    "### Q4 (a): Provide answer to Q4 (a) here [markdown cell]"
   ]
  },
  {
   "cell_type": "markdown",
   "metadata": {},
   "source": [
    "### Q4 (b): Write your code below"
   ]
  },
  {
   "cell_type": "code",
   "execution_count": null,
   "metadata": {
    "collapsed": true
   },
   "outputs": [],
   "source": [
    "# Put your code for creating the index here (you can add more cells).\n",
    "# Make sure you save the final index in the variable INDEX_Q4, your query parser in QP_Q4, and your searcher in SEARCHER_Q4"
   ]
  },
  {
   "cell_type": "code",
   "execution_count": null,
   "metadata": {
    "collapsed": true
   },
   "outputs": [],
   "source": [
    "INDEX_Q4 = None # Replace None with your index for Q4\n",
    "QP_Q4 = None # Replace None with your query parser for Q4\n",
    "SEARCHER_Q4 = None # Replace None with your searcher for Q4"
   ]
  },
  {
   "cell_type": "markdown",
   "metadata": {},
   "source": [
    "### Q4 (c): Provide answer to Q4 (a) here [markdown cell]"
   ]
  },
  {
   "cell_type": "markdown",
   "metadata": {},
   "source": [
    "### Q4 (d): Provide answer to Q4 (a) here [markdown cell]"
   ]
  },
  {
   "cell_type": "markdown",
   "metadata": {},
   "source": [
    "### Q4 (e): Provide answer to Q4 (a) here [markdown cell]"
   ]
  },
  {
   "cell_type": "markdown",
   "metadata": {},
   "source": [
    "### Q4 (f): Provide answer to Q4 (a) here [markdown cell]"
   ]
  },
  {
   "cell_type": "markdown",
   "metadata": {},
   "source": [
    "## Validation"
   ]
  },
  {
   "cell_type": "code",
   "execution_count": null,
   "metadata": {
    "collapsed": true
   },
   "outputs": [],
   "source": [
    "# Run the following cells to make sure your code returns the correct value types"
   ]
  },
  {
   "cell_type": "code",
   "execution_count": 13,
   "metadata": {
    "collapsed": true
   },
   "outputs": [],
   "source": [
    "from whoosh.index import FileIndex\n",
    "from whoosh.qparser import QueryParser\n",
    "from whoosh.searching import Searcher\n",
    "import os.path"
   ]
  },
  {
   "cell_type": "markdown",
   "metadata": {},
   "source": [
    "### Path Validation"
   ]
  },
  {
   "cell_type": "code",
   "execution_count": 32,
   "metadata": {},
   "outputs": [
    {
     "name": "stdout",
     "output_type": "stream",
     "text": [
      "Paths validated\n"
     ]
    }
   ],
   "source": [
    "assert \"MATERIALS_DIR\" in globals(), \"variable MATERIALS_DIR does not exists\"\n",
    "assert(os.path.isdir(os.path.join(MATERIALS_DIR))), \"MATERIALS_DIR folder does not exists\"\n",
    "assert(os.path.isdir(os.path.join(MATERIALS_DIR, r\"DSS_Fall2017_Assign2\"))), \"invalid folder structure\"\n",
    "assert(os.path.isdir(os.path.join(MATERIALS_DIR, r\"DSS_Fall2017_Assign2\\government\\documents\"))), \"invalid folder structure\"\n",
    "print(\"Paths validated\")"
   ]
  },
  {
   "cell_type": "markdown",
   "metadata": {},
   "source": [
    "### Q2 Validation"
   ]
  },
  {
   "cell_type": "code",
   "execution_count": 33,
   "metadata": {},
   "outputs": [
    {
     "name": "stdout",
     "output_type": "stream",
     "text": [
      "Q2 Types Validated\n"
     ]
    }
   ],
   "source": [
    "assert(isinstance(INDEX_Q2, FileIndex)), \"Index Type\"\n",
    "assert(isinstance(QP_Q2, QueryParser)), \"Query Parser Type\"\n",
    "assert(isinstance(SEARCHER_Q2, Searcher)), \"Searcher Type\"\n",
    "print(\"Q2 Types Validated\")"
   ]
  },
  {
   "cell_type": "markdown",
   "metadata": {},
   "source": [
    "### Q3 Validation"
   ]
  },
  {
   "cell_type": "code",
   "execution_count": 34,
   "metadata": {},
   "outputs": [
    {
     "name": "stdout",
     "output_type": "stream",
     "text": [
      "Q3 Types Validated\n"
     ]
    }
   ],
   "source": [
    "assert(isinstance(INDEX_Q3, FileIndex)), \"Index Type\"\n",
    "assert(isinstance(QP_Q3, QueryParser)), \"Query Parser Type\"\n",
    "assert(isinstance(SEARCHER_Q3, Searcher)), \"Searcher Type\"\n",
    "print(\"Q3 Types Validated\")"
   ]
  },
  {
   "cell_type": "markdown",
   "metadata": {},
   "source": [
    "### Q4 Validation (Graduate Students)"
   ]
  },
  {
   "cell_type": "code",
   "execution_count": 31,
   "metadata": {},
   "outputs": [
    {
     "ename": "NameError",
     "evalue": "name 'GRAD_STUDENT' is not defined",
     "output_type": "error",
     "traceback": [
      "\u001b[1;31m---------------------------------------------------------------------------\u001b[0m",
      "\u001b[1;31mNameError\u001b[0m                                 Traceback (most recent call last)",
      "\u001b[1;32m<ipython-input-31-f2ec4d38523c>\u001b[0m in \u001b[0;36m<module>\u001b[1;34m()\u001b[0m\n\u001b[1;32m----> 1\u001b[1;33m \u001b[1;32massert\u001b[0m\u001b[1;33m(\u001b[0m\u001b[1;33m(\u001b[0m\u001b[1;32mnot\u001b[0m \u001b[0mGRAD_STUDENT\u001b[0m\u001b[1;33m)\u001b[0m \u001b[1;32mor\u001b[0m \u001b[0misinstance\u001b[0m\u001b[1;33m(\u001b[0m\u001b[0mINDEX_Q4\u001b[0m\u001b[1;33m,\u001b[0m \u001b[0mFileIndex\u001b[0m\u001b[1;33m)\u001b[0m\u001b[1;33m)\u001b[0m\u001b[1;33m,\u001b[0m \u001b[1;34m\"Index Type\"\u001b[0m\u001b[1;33m\u001b[0m\u001b[0m\n\u001b[0m\u001b[0;32m      2\u001b[0m \u001b[1;32massert\u001b[0m\u001b[1;33m(\u001b[0m\u001b[1;33m(\u001b[0m\u001b[1;32mnot\u001b[0m \u001b[0mGRAD_STUDENT\u001b[0m\u001b[1;33m)\u001b[0m \u001b[1;32mor\u001b[0m \u001b[0misinstance\u001b[0m\u001b[1;33m(\u001b[0m\u001b[0mQP_Q4\u001b[0m\u001b[1;33m,\u001b[0m \u001b[0mQueryParser\u001b[0m\u001b[1;33m)\u001b[0m\u001b[1;33m)\u001b[0m\u001b[1;33m,\u001b[0m \u001b[1;34m\"Query Parser Type\"\u001b[0m\u001b[1;33m\u001b[0m\u001b[0m\n\u001b[0;32m      3\u001b[0m \u001b[1;32massert\u001b[0m\u001b[1;33m(\u001b[0m\u001b[1;33m(\u001b[0m\u001b[1;32mnot\u001b[0m \u001b[0mGRAD_STUDENT\u001b[0m\u001b[1;33m)\u001b[0m \u001b[1;32mor\u001b[0m \u001b[0misinstance\u001b[0m\u001b[1;33m(\u001b[0m\u001b[0mSEARCHER_Q4\u001b[0m\u001b[1;33m,\u001b[0m \u001b[0mSearcher\u001b[0m\u001b[1;33m)\u001b[0m\u001b[1;33m)\u001b[0m\u001b[1;33m,\u001b[0m \u001b[1;34m\"Searcher Type\"\u001b[0m\u001b[1;33m\u001b[0m\u001b[0m\n\u001b[0;32m      4\u001b[0m \u001b[0mprint\u001b[0m\u001b[1;33m(\u001b[0m\u001b[1;34m\"Q4 Types Validated\"\u001b[0m\u001b[1;33m)\u001b[0m\u001b[1;33m\u001b[0m\u001b[0m\n",
      "\u001b[1;31mNameError\u001b[0m: name 'GRAD_STUDENT' is not defined"
     ]
    }
   ],
   "source": [
    "assert((not GRAD_STUDENT) or isinstance(INDEX_Q4, FileIndex)), \"Index Type\"\n",
    "assert((not GRAD_STUDENT) or isinstance(QP_Q4, QueryParser)), \"Query Parser Type\"\n",
    "assert((not GRAD_STUDENT) or isinstance(SEARCHER_Q4, Searcher)), \"Searcher Type\"\n",
    "print(\"Q4 Types Validated\")"
   ]
  },
  {
   "cell_type": "code",
   "execution_count": null,
   "metadata": {
    "collapsed": true
   },
   "outputs": [],
   "source": []
  }
 ],
 "metadata": {
  "kernelspec": {
   "display_name": "Python 3",
   "language": "python",
   "name": "python3"
  },
  "language_info": {
   "codemirror_mode": {
    "name": "ipython",
    "version": 3
   },
   "file_extension": ".py",
   "mimetype": "text/x-python",
   "name": "python",
   "nbconvert_exporter": "python",
   "pygments_lexer": "ipython3",
   "version": "3.6.3"
  }
 },
 "nbformat": 4,
 "nbformat_minor": 2
}
